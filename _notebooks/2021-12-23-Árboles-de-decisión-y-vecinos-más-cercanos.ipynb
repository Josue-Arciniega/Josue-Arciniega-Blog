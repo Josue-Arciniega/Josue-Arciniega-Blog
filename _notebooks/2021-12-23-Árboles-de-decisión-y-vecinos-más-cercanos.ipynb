{
 "cells": [
  {
   "cell_type": "markdown",
   "id": "a18b2cb7",
   "metadata": {},
   "source": [
    "# Decision Trees and Nearest Neighbors #\n",
    "## Árboles de decisión y vecinos más cercanos ##"
   ]
  },
  {
   "cell_type": "markdown",
   "id": "74908b7b",
   "metadata": {},
   "source": [
    "Dentro de este post desarrollaremos algunos métodos, que suelen ser llamados \"*Non-parametric methods*\".\n",
    "Una forma coloquial de describir estos métodos es decir que son métodos que no requieren que se hagan suposiciones rigidas sobre como se debe hacer el mapeo de la data, de forma automática se ajustan buscando la mejor función para mapear la data, de hecho, algunos de estos métodos son usados cuando no se tiene mucho conocimiento sobre los datos, estos algoritmos nos ayudan a encontrar esos patrones o conjuntos que forman los datos.\n",
    "\n",
    "Entre estos métodos encontramos:\n",
    "* **Decision Trees**\n",
    "* **k-Nearest Neighbors**\n",
    "* Support Vector Machines (SVM)\n",
    "* k-Means\n",
    "* C-Means\n",
    "* Random Forests\n",
    "* **Bagging**\n",
    "* Entre otros\n",
    "\n",
    "A lo largo de este post, desarrollaremos los métodos en negritas."
   ]
  },
  {
   "cell_type": "markdown",
   "id": "1fb824b9",
   "metadata": {},
   "source": [
    "### Decision Trees\n",
    "Se dice que estos algoritmos fueron desarrollados de forma \"simultánea\" por investigadores Estadounidences y Australia, en este [link](https://www.explorium.ai/blog/the-complete-guide-to-decision-trees/) podrás encontrar mas información sobre la historia de este algoritmo.\n",
    "Las tareas que se pueden realizar con este algoritmo se clasifican básicamente en 2, Clasificación y Regresión.La idea general detrás de este algoritmo es dividir el espacio en diferentes regiones, permitiendo de esta forma la tarea de clasificación de cada región, o asignación de cierto valor a cada región para el caso de regresión.\n",
    "\n",
    "\n",
    "\n",
    "<h5>Introducción a los árboles de decisión.</h5>\n",
    "\n",
    "> youtube: https://youtu.be/XfoYk_Z5AkI\n"
   ]
  }
 ],
 "metadata": {
  "kernelspec": {
   "display_name": "Python 3 (ipykernel)",
   "language": "python",
   "name": "python3"
  },
  "language_info": {
   "codemirror_mode": {
    "name": "ipython",
    "version": 3
   },
   "file_extension": ".py",
   "mimetype": "text/x-python",
   "name": "python",
   "nbconvert_exporter": "python",
   "pygments_lexer": "ipython3",
   "version": "3.9.5"
  }
 },
 "nbformat": 4,
 "nbformat_minor": 5
}
